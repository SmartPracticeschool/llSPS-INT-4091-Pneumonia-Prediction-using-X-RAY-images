{
 "cells": [
  {
   "cell_type": "code",
   "execution_count": 1,
   "metadata": {},
   "outputs": [
    {
     "name": "stderr",
     "output_type": "stream",
     "text": [
      "Using TensorFlow backend.\n"
     ]
    },
    {
     "name": "stdout",
     "output_type": "stream",
     "text": [
      "Found 455 images belonging to 2 classes.\n",
      "Found 195 images belonging to 2 classes.\n"
     ]
    }
   ],
   "source": [
    "from keras.preprocessing.image import ImageDataGenerator\n",
    "DG_train = ImageDataGenerator( rescale = 1./255, shear_range=0.2, zoom_range=0.2, horizontal_flip=True );\n",
    "DG_test = ImageDataGenerator( rescale = 1./255 )\n",
    "x_train = DG_train.flow_from_directory(r\"C:\\Users\\SharathChandra\\Desktop\\Python-Smart Brifge\\CNN\\Pneumonia\\Pneumonia\\trainset\", target_size = (64,64), batch_size=15);\n",
    "x_test = DG_test.flow_from_directory(r\"C:\\Users\\SharathChandra\\Desktop\\Python-Smart Brifge\\CNN\\Pneumonia\\Pneumonia\\testset\", target_size = (64,64),batch_size = 15);"
   ]
  },
  {
   "cell_type": "code",
   "execution_count": 2,
   "metadata": {},
   "outputs": [],
   "source": [
    "from keras.models import Sequential\n",
    "from keras.layers import Dense\n",
    "from keras.layers import Convolution2D\n",
    "from keras.layers import MaxPooling2D\n",
    "from keras.layers import Flatten"
   ]
  },
  {
   "cell_type": "code",
   "execution_count": 3,
   "metadata": {},
   "outputs": [
    {
     "name": "stdout",
     "output_type": "stream",
     "text": [
      "WARNING:tensorflow:From C:\\Users\\SharathChandra\\Anaconda3\\lib\\site-packages\\keras\\backend\\tensorflow_backend.py:74: The name tf.get_default_graph is deprecated. Please use tf.compat.v1.get_default_graph instead.\n",
      "\n",
      "WARNING:tensorflow:From C:\\Users\\SharathChandra\\Anaconda3\\lib\\site-packages\\keras\\backend\\tensorflow_backend.py:517: The name tf.placeholder is deprecated. Please use tf.compat.v1.placeholder instead.\n",
      "\n",
      "WARNING:tensorflow:From C:\\Users\\SharathChandra\\Anaconda3\\lib\\site-packages\\keras\\backend\\tensorflow_backend.py:4138: The name tf.random_uniform is deprecated. Please use tf.random.uniform instead.\n",
      "\n",
      "WARNING:tensorflow:From C:\\Users\\SharathChandra\\Anaconda3\\lib\\site-packages\\keras\\backend\\tensorflow_backend.py:3976: The name tf.nn.max_pool is deprecated. Please use tf.nn.max_pool2d instead.\n",
      "\n",
      "WARNING:tensorflow:From C:\\Users\\SharathChandra\\Anaconda3\\lib\\site-packages\\keras\\optimizers.py:790: The name tf.train.Optimizer is deprecated. Please use tf.compat.v1.train.Optimizer instead.\n",
      "\n",
      "WARNING:tensorflow:From C:\\Users\\SharathChandra\\Anaconda3\\lib\\site-packages\\keras\\backend\\tensorflow_backend.py:3376: The name tf.log is deprecated. Please use tf.math.log instead.\n",
      "\n",
      "WARNING:tensorflow:From C:\\Users\\SharathChandra\\Anaconda3\\lib\\site-packages\\tensorflow\\python\\ops\\nn_impl.py:180: add_dispatch_support.<locals>.wrapper (from tensorflow.python.ops.array_ops) is deprecated and will be removed in a future version.\n",
      "Instructions for updating:\n",
      "Use tf.where in 2.0, which has the same broadcast rule as np.where\n"
     ]
    },
    {
     "name": "stderr",
     "output_type": "stream",
     "text": [
      "C:\\Users\\SharathChandra\\Anaconda3\\lib\\site-packages\\ipykernel_launcher.py:5: UserWarning: Update your `Dense` call to the Keras 2 API: `Dense(units=128, activation=\"relu\", kernel_initializer=\"uniform\")`\n",
      "  \"\"\"\n",
      "C:\\Users\\SharathChandra\\Anaconda3\\lib\\site-packages\\ipykernel_launcher.py:6: UserWarning: Update your `Dense` call to the Keras 2 API: `Dense(units=2, activation=\"softmax\", kernel_initializer=\"uniform\")`\n",
      "  \n"
     ]
    }
   ],
   "source": [
    "model = Sequential()\n",
    "model.add(Convolution2D( 32, (3,3), input_shape = (64,64,3), activation=\"relu\"));\n",
    "model.add(MaxPooling2D( pool_size = (2,2) ))\n",
    "model.add(Flatten())\n",
    "model.add( Dense( units=128, init=\"uniform\", activation=\"relu\" ) )\n",
    "model.add( Dense( units=2, init=\"uniform\", activation=\"softmax\" ) )\n",
    "\n",
    "model.compile(loss=\"binary_crossentropy\", optimizer=\"adam\",metrics = [\"accuracy\"] )"
   ]
  },
  {
   "cell_type": "code",
   "execution_count": 4,
   "metadata": {},
   "outputs": [
    {
     "name": "stdout",
     "output_type": "stream",
     "text": [
      "30.333333333333332\n",
      "13.0\n"
     ]
    }
   ],
   "source": [
    "print(455/15)\n",
    "print(195/15)"
   ]
  },
  {
   "cell_type": "code",
   "execution_count": 5,
   "metadata": {
    "scrolled": true
   },
   "outputs": [
    {
     "name": "stdout",
     "output_type": "stream",
     "text": [
      "WARNING:tensorflow:From C:\\Users\\SharathChandra\\Anaconda3\\lib\\site-packages\\keras\\backend\\tensorflow_backend.py:986: The name tf.assign_add is deprecated. Please use tf.compat.v1.assign_add instead.\n",
      "\n",
      "Epoch 1/20\n",
      "30/30 [==============================] - 6s 192ms/step - loss: 0.5972 - acc: 0.7489 - val_loss: 0.5786 - val_acc: 0.7692\n",
      "Epoch 2/20\n",
      "30/30 [==============================] - 5s 152ms/step - loss: 0.5648 - acc: 0.7666 - val_loss: 0.5574 - val_acc: 0.7692\n",
      "Epoch 3/20\n",
      "30/30 [==============================] - 5s 160ms/step - loss: 0.5360 - acc: 0.7733 - val_loss: 0.5385 - val_acc: 0.7692\n",
      "Epoch 4/20\n",
      "30/30 [==============================] - 5s 156ms/step - loss: 0.5286 - acc: 0.7733 - val_loss: 0.5392 - val_acc: 0.7692\n",
      "Epoch 5/20\n",
      "30/30 [==============================] - 5s 151ms/step - loss: 0.5481 - acc: 0.7580 - val_loss: 0.5380 - val_acc: 0.7692\n",
      "Epoch 6/20\n",
      "30/30 [==============================] - 5s 153ms/step - loss: 0.5130 - acc: 0.7776 - val_loss: 0.5412 - val_acc: 0.7692\n",
      "Epoch 7/20\n",
      "30/30 [==============================] - 5s 163ms/step - loss: 0.5120 - acc: 0.7754 - val_loss: 0.5829 - val_acc: 0.7692\n",
      "Epoch 8/20\n",
      "30/30 [==============================] - 5s 159ms/step - loss: 0.5393 - acc: 0.7534 - val_loss: 0.5459 - val_acc: 0.7692\n",
      "Epoch 9/20\n",
      "30/30 [==============================] - 5s 156ms/step - loss: 0.5121 - acc: 0.7646 - val_loss: 0.5516 - val_acc: 0.7692\n",
      "Epoch 10/20\n",
      "30/30 [==============================] - 5s 176ms/step - loss: 0.5247 - acc: 0.7666 - val_loss: 0.5480 - val_acc: 0.7692\n",
      "Epoch 11/20\n",
      "30/30 [==============================] - 5s 173ms/step - loss: 0.4840 - acc: 0.7932 - val_loss: 0.5540 - val_acc: 0.7692\n",
      "Epoch 12/20\n",
      "30/30 [==============================] - 5s 160ms/step - loss: 0.5170 - acc: 0.7665 - val_loss: 0.5569 - val_acc: 0.7692\n",
      "Epoch 13/20\n",
      "30/30 [==============================] - 5s 169ms/step - loss: 0.4657 - acc: 0.8044 - val_loss: 0.6498 - val_acc: 0.7692\n",
      "Epoch 14/20\n",
      "30/30 [==============================] - 5s 161ms/step - loss: 0.5543 - acc: 0.7268 - val_loss: 0.5732 - val_acc: 0.7692\n",
      "Epoch 15/20\n",
      "30/30 [==============================] - 5s 166ms/step - loss: 0.4700 - acc: 0.7911 - val_loss: 0.5591 - val_acc: 0.7692\n",
      "Epoch 16/20\n",
      "30/30 [==============================] - 5s 156ms/step - loss: 0.5434 - acc: 0.7422 - val_loss: 0.5630 - val_acc: 0.7692\n",
      "Epoch 17/20\n",
      "30/30 [==============================] - 5s 154ms/step - loss: 0.4868 - acc: 0.7822 - val_loss: 0.5791 - val_acc: 0.7692\n",
      "Epoch 18/20\n",
      "30/30 [==============================] - 5s 162ms/step - loss: 0.5028 - acc: 0.7647 - val_loss: 0.5841 - val_acc: 0.7590\n",
      "Epoch 19/20\n",
      "30/30 [==============================] - 5s 163ms/step - loss: 0.5065 - acc: 0.7758 - val_loss: 0.6085 - val_acc: 0.7692\n",
      "Epoch 20/20\n",
      "30/30 [==============================] - 5s 179ms/step - loss: 0.5124 - acc: 0.7555 - val_loss: 0.6256 - val_acc: 0.7692\n"
     ]
    },
    {
     "data": {
      "text/plain": [
       "<keras.callbacks.History at 0x198af9b9a90>"
      ]
     },
     "execution_count": 5,
     "metadata": {},
     "output_type": "execute_result"
    }
   ],
   "source": [
    "model.fit_generator(x_train, steps_per_epoch = 30, validation_data = x_test, validation_steps = 13,epochs = 20)"
   ]
  },
  {
   "cell_type": "code",
   "execution_count": 6,
   "metadata": {},
   "outputs": [],
   "source": [
    "model.save(\"pneumonia_model.h5\");"
   ]
  },
  {
   "cell_type": "code",
   "execution_count": null,
   "metadata": {},
   "outputs": [],
   "source": []
  }
 ],
 "metadata": {
  "kernelspec": {
   "display_name": "Python 3",
   "language": "python",
   "name": "python3"
  },
  "language_info": {
   "codemirror_mode": {
    "name": "ipython",
    "version": 3
   },
   "file_extension": ".py",
   "mimetype": "text/x-python",
   "name": "python",
   "nbconvert_exporter": "python",
   "pygments_lexer": "ipython3",
   "version": "3.7.3"
  }
 },
 "nbformat": 4,
 "nbformat_minor": 2
}
