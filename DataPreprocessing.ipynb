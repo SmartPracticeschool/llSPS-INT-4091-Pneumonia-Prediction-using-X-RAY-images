{
 "cells": [
  {
   "cell_type": "code",
   "execution_count": 2,
   "metadata": {},
   "outputs": [],
   "source": [
    "from keras.preprocessing.image import ImageDataGenerator\n",
    "DG_train = ImageDataGenerator( rescale = 1./255, shear_range=0.2, zoom_range=0.2, horizontal_flip=True );\n",
    "DG_test = ImageDataGenerator( rescale = 1./255 )"
   ]
  },
  {
   "cell_type": "code",
   "execution_count": 3,
   "metadata": {},
   "outputs": [
    {
     "name": "stdout",
     "output_type": "stream",
     "text": [
      "Found 455 images belonging to 2 classes.\n",
      "Found 195 images belonging to 2 classes.\n"
     ]
    }
   ],
   "source": [
    "x_train = DG_train.flow_from_directory(r\"C:\\Users\\SharathChandra\\Desktop\\Python-Smart Brifge\\CNN\\Pneumonia\\Pneumonia\\trainset\", target_size = (64,64), batch_size=32);\n",
    "x_test = DG_test.flow_from_directory(r\"C:\\Users\\SharathChandra\\Desktop\\Python-Smart Brifge\\CNN\\Pneumonia\\Pneumonia\\testset\");"
   ]
  },
  {
   "cell_type": "code",
   "execution_count": 4,
   "metadata": {},
   "outputs": [
    {
     "data": {
      "text/plain": [
       "{'Negative': 0, 'Positive': 1}"
      ]
     },
     "execution_count": 4,
     "metadata": {},
     "output_type": "execute_result"
    }
   ],
   "source": [
    "x_train.class_indices"
   ]
  },
  {
   "cell_type": "code",
   "execution_count": null,
   "metadata": {},
   "outputs": [],
   "source": []
  }
 ],
 "metadata": {
  "kernelspec": {
   "display_name": "Python 3",
   "language": "python",
   "name": "python3"
  },
  "language_info": {
   "codemirror_mode": {
    "name": "ipython",
    "version": 3
   },
   "file_extension": ".py",
   "mimetype": "text/x-python",
   "name": "python",
   "nbconvert_exporter": "python",
   "pygments_lexer": "ipython3",
   "version": "3.7.3"
  }
 },
 "nbformat": 4,
 "nbformat_minor": 2
}
